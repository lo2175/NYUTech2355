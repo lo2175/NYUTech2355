{
  "nbformat": 4,
  "nbformat_minor": 0,
  "metadata": {
    "colab": {
      "provenance": [],
      "authorship_tag": "ABX9TyPW2NdJj41ZFbzTeXrXM8Gy",
      "include_colab_link": true
    },
    "kernelspec": {
      "name": "python3",
      "display_name": "Python 3"
    },
    "language_info": {
      "name": "python"
    }
  },
  "cells": [
    {
      "cell_type": "markdown",
      "metadata": {
        "id": "view-in-github",
        "colab_type": "text"
      },
      "source": [
        "<a href=\"https://colab.research.google.com/github/lo2175/NYUTech2355/blob/main/My_First_Notebook.ipynb\" target=\"_parent\"><img src=\"https://colab.research.google.com/assets/colab-badge.svg\" alt=\"Open In Colab\"/></a>"
      ]
    },
    {
      "cell_type": "markdown",
      "source": [
        "This is my first notebook."
      ],
      "metadata": {
        "id": "FcE9YjsaqrCS"
      }
    },
    {
      "cell_type": "markdown",
      "source": [
        "# My First Notebook!\n",
        "\n",
        "This is a text cell. It uses the markdown language. The line above is a heading, starting with the \"#\" sign. Remember \"#\" means something different in Markdown than it does in Python.\n",
        "\n",
        "We can make links like [this](https://github.com/prof-rossetti/intro-to-python).\n",
        "\n",
        "And lists too:\n",
        "\n",
        "  + Item 1\n",
        "  + Item 2\n",
        "  + Item 3\n",
        "\n",
        "For more information about Markdown syntax, see the [Markdown Guide](https://www.markdownguide.org/)."
      ],
      "metadata": {
        "id": "yd4usP3kq98r"
      }
    },
    {
      "cell_type": "markdown",
      "source": [
        "#Top"
      ],
      "metadata": {
        "id": "a1woVxiurqe1"
      }
    },
    {
      "cell_type": "markdown",
      "source": [
        "##Second Level Heading Part 1\n"
      ],
      "metadata": {
        "id": "2C286r-LrwuT"
      }
    },
    {
      "cell_type": "markdown",
      "source": [
        "##Second Level Heading Part 2"
      ],
      "metadata": {
        "id": "s8l8dlGcr0Ju"
      }
    },
    {
      "cell_type": "markdown",
      "source": [
        "**bold text**"
      ],
      "metadata": {
        "id": "4mhGOaVEsAw5"
      }
    },
    {
      "cell_type": "code",
      "source": [
        "# This is some example Python code\n",
        "# These lines starting with \"#\" are \"comments\"\n",
        "# Remember \"#\" means something different in Markdown than it does in Python\n",
        "\n",
        "print(\"HELLO WORLD!\")\n",
        "\n",
        "x = 2 + 2\n",
        "print(x)"
      ],
      "metadata": {
        "colab": {
          "base_uri": "https://localhost:8080/"
        },
        "id": "TpM7X8Dishkl",
        "outputId": "ec3c3a4c-b992-497b-eb0a-e8eae33a8d0c"
      },
      "execution_count": 9,
      "outputs": [
        {
          "output_type": "stream",
          "name": "stdout",
          "text": [
            "HELLO WORLD!\n",
            "4\n"
          ]
        }
      ]
    },
    {
      "cell_type": "code",
      "source": [
        "y = 10 * 10\n",
        "print (y)"
      ],
      "metadata": {
        "colab": {
          "base_uri": "https://localhost:8080/"
        },
        "id": "EgizWSMOuCVa",
        "outputId": "390171c1-f9e8-4336-cd2d-8e37052c92f0"
      },
      "execution_count": 10,
      "outputs": [
        {
          "output_type": "stream",
          "name": "stdout",
          "text": [
            "100\n"
          ]
        }
      ]
    }
  ]
}